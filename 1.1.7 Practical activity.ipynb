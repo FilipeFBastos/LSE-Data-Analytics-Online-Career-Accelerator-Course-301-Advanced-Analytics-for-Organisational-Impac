{
 "cells": [
  {
   "cell_type": "markdown",
   "id": "59712ba1",
   "metadata": {},
   "source": [
    "### LSE Data Analytics Online Career Accelerator \n",
    "# Course 301: Advanced Analytics for Organisational Impact"
   ]
  },
  {
   "cell_type": "markdown",
   "id": "6e4f5bfa",
   "metadata": {},
   "source": [
    "### 1.1.7 Practical activity: Conduct A/B testing in Python"
   ]
  },
  {
   "cell_type": "markdown",
   "id": "cb7641a2",
   "metadata": {},
   "source": [
    "### Scenario\n",
    "\n",
    "An online bicycle store has changed its home page interface to encourage visitors to click through to its loyalty programme sign-up page. It hopes the new interface will encourage more visitors to access the loyalty programme page, to see what benefits the programme brings, and to sign up. The current click-through rate (CTR) is around 50% annually, and the company hopes the new design will push this to at least 55%.\n",
    "\n",
    "This analysis uses the bike_shop.csv data set. Using your Python and data wrangling skills, you will run an A/B test on the data to measure the significance of the interface change based on CTR to the loyalty programme page"
   ]
  },
  {
   "cell_type": "code",
   "execution_count": 1,
   "id": "1c85aec3",
   "metadata": {},
   "outputs": [
    {
     "name": "stdout",
     "output_type": "stream",
     "text": [
      "Sample Size: 1565.490\n"
     ]
    }
   ],
   "source": [
    "# Import statsmodel for statistical calculations and TTestIndPower class to calculate the parameters. \n",
    "import statsmodels.stats.api as sms\n",
    "from statsmodels.stats.power import TTestIndPower\n",
    "# Specify the three required parameters for the power analisys: \n",
    "alpha = 0.05\n",
    "power = 0.80\n",
    "effect = sms.proportion_effectsize(0.5, 0.55)\n",
    "# Specify power analysis by using the solve_power() funtion:\n",
    "# Specify an instance of TTestIndPower.\n",
    "analysis = TTestIndPower()\n",
    "# Calculate the sample size and list the parameters.\n",
    "result = analysis.solve_power(effect, power=power, nobs1=None, ratio=1.0, alpha=alpha)\n",
    "\n",
    "# Print the output.\n",
    "print('Sample Size: %.3f' % result)\n",
    "\n"
   ]
  },
  {
   "cell_type": "code",
   "execution_count": 2,
   "id": "af91ca40",
   "metadata": {},
   "outputs": [
    {
     "name": "stdout",
     "output_type": "stream",
     "text": [
      "Requirement already satisfied: scipy in c:\\users\\filip\\anaconda3\\lib\\site-packages (1.9.1)\n",
      "Requirement already satisfied: numpy<1.25.0,>=1.18.5 in c:\\users\\filip\\anaconda3\\lib\\site-packages (from scipy) (1.21.5)\n"
     ]
    },
    {
     "data": {
      "text/html": [
       "<div>\n",
       "<style scoped>\n",
       "    .dataframe tbody tr th:only-of-type {\n",
       "        vertical-align: middle;\n",
       "    }\n",
       "\n",
       "    .dataframe tbody tr th {\n",
       "        vertical-align: top;\n",
       "    }\n",
       "\n",
       "    .dataframe thead th {\n",
       "        text-align: right;\n",
       "    }\n",
       "</style>\n",
       "<table border=\"1\" class=\"dataframe\">\n",
       "  <thead>\n",
       "    <tr style=\"text-align: right;\">\n",
       "      <th></th>\n",
       "      <th>RecordID</th>\n",
       "      <th>IP Address</th>\n",
       "      <th>LoggedInFlag</th>\n",
       "      <th>ServerID</th>\n",
       "      <th>VisitPageFlag</th>\n",
       "    </tr>\n",
       "  </thead>\n",
       "  <tbody>\n",
       "    <tr>\n",
       "      <th>0</th>\n",
       "      <td>1</td>\n",
       "      <td>39.13.114.2</td>\n",
       "      <td>1</td>\n",
       "      <td>2</td>\n",
       "      <td>0</td>\n",
       "    </tr>\n",
       "    <tr>\n",
       "      <th>1</th>\n",
       "      <td>2</td>\n",
       "      <td>13.3.25.8</td>\n",
       "      <td>1</td>\n",
       "      <td>1</td>\n",
       "      <td>0</td>\n",
       "    </tr>\n",
       "    <tr>\n",
       "      <th>2</th>\n",
       "      <td>3</td>\n",
       "      <td>247.8.211.8</td>\n",
       "      <td>1</td>\n",
       "      <td>1</td>\n",
       "      <td>0</td>\n",
       "    </tr>\n",
       "    <tr>\n",
       "      <th>3</th>\n",
       "      <td>4</td>\n",
       "      <td>124.8.220.3</td>\n",
       "      <td>0</td>\n",
       "      <td>3</td>\n",
       "      <td>0</td>\n",
       "    </tr>\n",
       "    <tr>\n",
       "      <th>4</th>\n",
       "      <td>5</td>\n",
       "      <td>60.10.192.7</td>\n",
       "      <td>0</td>\n",
       "      <td>2</td>\n",
       "      <td>0</td>\n",
       "    </tr>\n",
       "  </tbody>\n",
       "</table>\n",
       "</div>"
      ],
      "text/plain": [
       "   RecordID   IP Address  LoggedInFlag  ServerID  VisitPageFlag\n",
       "0         1  39.13.114.2             1         2              0\n",
       "1         2    13.3.25.8             1         1              0\n",
       "2         3  247.8.211.8             1         1              0\n",
       "3         4  124.8.220.3             0         3              0\n",
       "4         5  60.10.192.7             0         2              0"
      ]
     },
     "execution_count": 2,
     "metadata": {},
     "output_type": "execute_result"
    }
   ],
   "source": [
    "# Install the relevant modules: \n",
    "!pip install scipy\n",
    "# Import necessary libraries, packages, and classes \n",
    "import pandas as pd\n",
    "import math\n",
    "import numpy as np\n",
    "import statsmodels.stats.api as sms\n",
    "import scipy.stats as st\n",
    "import matplotlib as mpl\n",
    "import matplotlib.pyplot as plt \n",
    "# Read the CSV file.\n",
    "df = pd.read_csv('bike_shop_28.02.csv')\n",
    "# View the DataFrame\n",
    "df.head()"
   ]
  },
  {
   "cell_type": "code",
   "execution_count": 3,
   "id": "0ddd07b4",
   "metadata": {},
   "outputs": [
    {
     "name": "stdout",
     "output_type": "stream",
     "text": [
      "<class 'pandas.core.frame.DataFrame'>\n",
      "RangeIndex: 184588 entries, 0 to 184587\n",
      "Data columns (total 5 columns):\n",
      " #   Column         Non-Null Count   Dtype \n",
      "---  ------         --------------   ----- \n",
      " 0   RecordID       184588 non-null  int64 \n",
      " 1   IP Address     184588 non-null  object\n",
      " 2   LoggedInFlag   184588 non-null  int64 \n",
      " 3   ServerID       184588 non-null  int64 \n",
      " 4   VisitPageFlag  184588 non-null  int64 \n",
      "dtypes: int64(4), object(1)\n",
      "memory usage: 7.0+ MB\n"
     ]
    }
   ],
   "source": [
    "# Check the metadata.\n",
    "df.info()"
   ]
  },
  {
   "cell_type": "code",
   "execution_count": 4,
   "id": "22219f8d",
   "metadata": {},
   "outputs": [
    {
     "data": {
      "text/html": [
       "<div>\n",
       "<style scoped>\n",
       "    .dataframe tbody tr th:only-of-type {\n",
       "        vertical-align: middle;\n",
       "    }\n",
       "\n",
       "    .dataframe tbody tr th {\n",
       "        vertical-align: top;\n",
       "    }\n",
       "\n",
       "    .dataframe thead th {\n",
       "        text-align: right;\n",
       "    }\n",
       "</style>\n",
       "<table border=\"1\" class=\"dataframe\">\n",
       "  <thead>\n",
       "    <tr style=\"text-align: right;\">\n",
       "      <th></th>\n",
       "      <th>RecordID</th>\n",
       "      <th>IPAddress</th>\n",
       "      <th>LoyaltyPage</th>\n",
       "      <th>ServerID</th>\n",
       "      <th>VisitPageFlag</th>\n",
       "    </tr>\n",
       "  </thead>\n",
       "  <tbody>\n",
       "    <tr>\n",
       "      <th>0</th>\n",
       "      <td>1</td>\n",
       "      <td>39.13.114.2</td>\n",
       "      <td>1</td>\n",
       "      <td>2</td>\n",
       "      <td>0</td>\n",
       "    </tr>\n",
       "    <tr>\n",
       "      <th>1</th>\n",
       "      <td>2</td>\n",
       "      <td>13.3.25.8</td>\n",
       "      <td>1</td>\n",
       "      <td>1</td>\n",
       "      <td>0</td>\n",
       "    </tr>\n",
       "    <tr>\n",
       "      <th>2</th>\n",
       "      <td>3</td>\n",
       "      <td>247.8.211.8</td>\n",
       "      <td>1</td>\n",
       "      <td>1</td>\n",
       "      <td>0</td>\n",
       "    </tr>\n",
       "    <tr>\n",
       "      <th>3</th>\n",
       "      <td>4</td>\n",
       "      <td>124.8.220.3</td>\n",
       "      <td>0</td>\n",
       "      <td>3</td>\n",
       "      <td>0</td>\n",
       "    </tr>\n",
       "    <tr>\n",
       "      <th>4</th>\n",
       "      <td>5</td>\n",
       "      <td>60.10.192.7</td>\n",
       "      <td>0</td>\n",
       "      <td>2</td>\n",
       "      <td>0</td>\n",
       "    </tr>\n",
       "  </tbody>\n",
       "</table>\n",
       "</div>"
      ],
      "text/plain": [
       "   RecordID    IPAddress  LoyaltyPage  ServerID  VisitPageFlag\n",
       "0         1  39.13.114.2            1         2              0\n",
       "1         2    13.3.25.8            1         1              0\n",
       "2         3  247.8.211.8            1         1              0\n",
       "3         4  124.8.220.3            0         3              0\n",
       "4         5  60.10.192.7            0         2              0"
      ]
     },
     "execution_count": 4,
     "metadata": {},
     "output_type": "execute_result"
    }
   ],
   "source": [
    "# Create a new variable to store the cleaned data and rename the columns name.\n",
    "df_new = df.rename(columns={'IP Address': 'IPAddress', 'LoggedInFlag': 'LoyaltyPage'})\n",
    "# View the DataFrame.\n",
    "df_new.head()"
   ]
  },
  {
   "cell_type": "code",
   "execution_count": 5,
   "id": "31d4e752",
   "metadata": {},
   "outputs": [
    {
     "name": "stdout",
     "output_type": "stream",
     "text": [
      "<class 'pandas.core.frame.DataFrame'>\n",
      "Int64Index: 39608 entries, 7 to 184584\n",
      "Data columns (total 5 columns):\n",
      " #   Column         Non-Null Count  Dtype \n",
      "---  ------         --------------  ----- \n",
      " 0   RecordID       39608 non-null  int64 \n",
      " 1   IPAddress      39608 non-null  object\n",
      " 2   LoyaltyPage    39608 non-null  int64 \n",
      " 3   ServerID       39608 non-null  int64 \n",
      " 4   VisitPageFlag  39608 non-null  int64 \n",
      "dtypes: int64(4), object(1)\n",
      "memory usage: 1.8+ MB\n"
     ]
    }
   ],
   "source": [
    "# Drop duplicate values. \n",
    "# Use drop_duplicates to return Series without the duplicate values. \n",
    "df_new = df_new.drop_duplicates(subset = 'IPAddress', keep = False, inplace = True)\n",
    "# Check the metadata.\n",
    "df_new.info()"
   ]
  },
  {
   "cell_type": "code",
   "execution_count": 9,
   "id": "580ac004",
   "metadata": {},
   "outputs": [
    {
     "name": "stdout",
     "output_type": "stream",
     "text": [
      "<class 'pandas.core.frame.DataFrame'>\n",
      "Int64Index: 39608 entries, 7 to 184584\n",
      "Data columns (total 3 columns):\n",
      " #   Column       Non-Null Count  Dtype \n",
      "---  ------       --------------  ----- \n",
      " 0   IPAddress    39608 non-null  object\n",
      " 1   LoyaltyPage  39608 non-null  int64 \n",
      " 2   ServerID     39608 non-null  int64 \n",
      "dtypes: int64(2), object(1)\n",
      "memory usage: 1.2+ MB\n"
     ]
    }
   ],
   "source": [
    "# Remove unnecessary columns. \n",
    "# Used dropped.drop to remove irrelevant columns from the DataFrame. \n",
    "# Specify that Unnamed: 0, RecordID and VisitPageFlag are columns (i.e. axis =1).\n",
    "df_final = df_new.drop(['RecordID', 'VisitPageFlag'], axis=1)\n",
    "# Check the metadata.\n",
    "df_final.info()"
   ]
  },
  {
   "cell_type": "code",
   "execution_count": 10,
   "id": "b8710850",
   "metadata": {},
   "outputs": [
    {
     "data": {
      "text/html": [
       "<div>\n",
       "<style scoped>\n",
       "    .dataframe tbody tr th:only-of-type {\n",
       "        vertical-align: middle;\n",
       "    }\n",
       "\n",
       "    .dataframe tbody tr th {\n",
       "        vertical-align: top;\n",
       "    }\n",
       "\n",
       "    .dataframe thead th {\n",
       "        text-align: right;\n",
       "    }\n",
       "</style>\n",
       "<table border=\"1\" class=\"dataframe\">\n",
       "  <thead>\n",
       "    <tr style=\"text-align: right;\">\n",
       "      <th></th>\n",
       "      <th>IPAddress</th>\n",
       "      <th>LoyaltyPage</th>\n",
       "      <th>ServerID</th>\n",
       "    </tr>\n",
       "  </thead>\n",
       "  <tbody>\n",
       "    <tr>\n",
       "      <th>7</th>\n",
       "      <td>97.6.126.6</td>\n",
       "      <td>0</td>\n",
       "      <td>3</td>\n",
       "    </tr>\n",
       "    <tr>\n",
       "      <th>12</th>\n",
       "      <td>188.13.62.2</td>\n",
       "      <td>0</td>\n",
       "      <td>3</td>\n",
       "    </tr>\n",
       "    <tr>\n",
       "      <th>14</th>\n",
       "      <td>234.1.239.1</td>\n",
       "      <td>0</td>\n",
       "      <td>2</td>\n",
       "    </tr>\n",
       "    <tr>\n",
       "      <th>15</th>\n",
       "      <td>167.15.157.7</td>\n",
       "      <td>0</td>\n",
       "      <td>2</td>\n",
       "    </tr>\n",
       "    <tr>\n",
       "      <th>16</th>\n",
       "      <td>123.12.229.8</td>\n",
       "      <td>0</td>\n",
       "      <td>1</td>\n",
       "    </tr>\n",
       "  </tbody>\n",
       "</table>\n",
       "</div>"
      ],
      "text/plain": [
       "       IPAddress  LoyaltyPage  ServerID\n",
       "7     97.6.126.6            0         3\n",
       "12   188.13.62.2            0         3\n",
       "14   234.1.239.1            0         2\n",
       "15  167.15.157.7            0         2\n",
       "16  123.12.229.8            0         1"
      ]
     },
     "execution_count": 10,
     "metadata": {},
     "output_type": "execute_result"
    }
   ],
   "source": [
    "df_final.head()"
   ]
  },
  {
   "cell_type": "code",
   "execution_count": 16,
   "id": "ae94e0bf",
   "metadata": {},
   "outputs": [
    {
     "data": {
      "text/html": [
       "<div>\n",
       "<style scoped>\n",
       "    .dataframe tbody tr th:only-of-type {\n",
       "        vertical-align: middle;\n",
       "    }\n",
       "\n",
       "    .dataframe tbody tr th {\n",
       "        vertical-align: top;\n",
       "    }\n",
       "\n",
       "    .dataframe thead th {\n",
       "        text-align: right;\n",
       "    }\n",
       "</style>\n",
       "<table border=\"1\" class=\"dataframe\">\n",
       "  <thead>\n",
       "    <tr style=\"text-align: right;\">\n",
       "      <th></th>\n",
       "      <th>IPAddress</th>\n",
       "      <th>LoyaltyPage</th>\n",
       "      <th>ServerID</th>\n",
       "      <th>Group</th>\n",
       "    </tr>\n",
       "  </thead>\n",
       "  <tbody>\n",
       "    <tr>\n",
       "      <th>7</th>\n",
       "      <td>97.6.126.6</td>\n",
       "      <td>0</td>\n",
       "      <td>3</td>\n",
       "      <td>Control</td>\n",
       "    </tr>\n",
       "    <tr>\n",
       "      <th>12</th>\n",
       "      <td>188.13.62.2</td>\n",
       "      <td>0</td>\n",
       "      <td>3</td>\n",
       "      <td>Control</td>\n",
       "    </tr>\n",
       "    <tr>\n",
       "      <th>14</th>\n",
       "      <td>234.1.239.1</td>\n",
       "      <td>0</td>\n",
       "      <td>2</td>\n",
       "      <td>Control</td>\n",
       "    </tr>\n",
       "    <tr>\n",
       "      <th>15</th>\n",
       "      <td>167.15.157.7</td>\n",
       "      <td>0</td>\n",
       "      <td>2</td>\n",
       "      <td>Control</td>\n",
       "    </tr>\n",
       "    <tr>\n",
       "      <th>16</th>\n",
       "      <td>123.12.229.8</td>\n",
       "      <td>0</td>\n",
       "      <td>1</td>\n",
       "      <td>Treatment</td>\n",
       "    </tr>\n",
       "  </tbody>\n",
       "</table>\n",
       "</div>"
      ],
      "text/plain": [
       "       IPAddress  LoyaltyPage  ServerID      Group\n",
       "7     97.6.126.6            0         3    Control\n",
       "12   188.13.62.2            0         3    Control\n",
       "14   234.1.239.1            0         2    Control\n",
       "15  167.15.157.7            0         2    Control\n",
       "16  123.12.229.8            0         1  Treatment"
      ]
     },
     "execution_count": 16,
     "metadata": {},
     "output_type": "execute_result"
    }
   ],
   "source": [
    "# Split the data set into ID1 as treatment and ID2 & ID3 as control groups.\n",
    "df_final['Group'] = df_final['ServerID'].map({1:'Treatment', 2:'Control', 3:'Control'})\n",
    "# View the DataFrame.\n",
    "df_final.head()"
   ]
  },
  {
   "cell_type": "code",
   "execution_count": 17,
   "id": "3cba501a",
   "metadata": {},
   "outputs": [
    {
     "data": {
      "text/plain": [
       "Control      26310\n",
       "Treatment    13298\n",
       "Name: Group, dtype: int64"
      ]
     },
     "execution_count": 17,
     "metadata": {},
     "output_type": "execute_result"
    }
   ],
   "source": [
    "# Determine the sample sizes.\n",
    "df_final['Group'].value_counts()"
   ]
  },
  {
   "cell_type": "code",
   "execution_count": 20,
   "id": "a68193c4",
   "metadata": {},
   "outputs": [],
   "source": [
    "# Obtain a simple random sample for control and treatment groups with n = 1565;\n",
    "# Set random_stategenerator see at an arbitrary value of 42.\n",
    "# Obtain a simple random sample for the control group.\n",
    "control_sample = df_final[df_final['Group'] == 'Control'].sample(n=1565, random_state=42)\n",
    "\n",
    "# Obtain a simple random sample for the treatment group.\n",
    "treatment_sample = df_final[df_final['Group'] == 'Treatment'].sample(n=1565, random_state=42)"
   ]
  },
  {
   "cell_type": "code",
   "execution_count": 22,
   "id": "354ef847",
   "metadata": {},
   "outputs": [
    {
     "data": {
      "text/html": [
       "<div>\n",
       "<style scoped>\n",
       "    .dataframe tbody tr th:only-of-type {\n",
       "        vertical-align: middle;\n",
       "    }\n",
       "\n",
       "    .dataframe tbody tr th {\n",
       "        vertical-align: top;\n",
       "    }\n",
       "\n",
       "    .dataframe thead th {\n",
       "        text-align: right;\n",
       "    }\n",
       "</style>\n",
       "<table border=\"1\" class=\"dataframe\">\n",
       "  <thead>\n",
       "    <tr style=\"text-align: right;\">\n",
       "      <th></th>\n",
       "      <th>IPAddress</th>\n",
       "      <th>LoyaltyPage</th>\n",
       "      <th>ServerID</th>\n",
       "      <th>Group</th>\n",
       "    </tr>\n",
       "  </thead>\n",
       "  <tbody>\n",
       "    <tr>\n",
       "      <th>53313</th>\n",
       "      <td>25.16.126.2</td>\n",
       "      <td>1</td>\n",
       "      <td>3</td>\n",
       "      <td>Control</td>\n",
       "    </tr>\n",
       "    <tr>\n",
       "      <th>52290</th>\n",
       "      <td>106.13.67.3</td>\n",
       "      <td>1</td>\n",
       "      <td>3</td>\n",
       "      <td>Control</td>\n",
       "    </tr>\n",
       "    <tr>\n",
       "      <th>104046</th>\n",
       "      <td>169.11.137.7</td>\n",
       "      <td>0</td>\n",
       "      <td>2</td>\n",
       "      <td>Control</td>\n",
       "    </tr>\n",
       "    <tr>\n",
       "      <th>171756</th>\n",
       "      <td>164.9.86.8</td>\n",
       "      <td>1</td>\n",
       "      <td>2</td>\n",
       "      <td>Control</td>\n",
       "    </tr>\n",
       "    <tr>\n",
       "      <th>2317</th>\n",
       "      <td>112.12.25.7</td>\n",
       "      <td>0</td>\n",
       "      <td>2</td>\n",
       "      <td>Control</td>\n",
       "    </tr>\n",
       "  </tbody>\n",
       "</table>\n",
       "</div>"
      ],
      "text/plain": [
       "           IPAddress  LoyaltyPage  ServerID    Group\n",
       "53313    25.16.126.2            1         3  Control\n",
       "52290    106.13.67.3            1         3  Control\n",
       "104046  169.11.137.7            0         2  Control\n",
       "171756    164.9.86.8            1         2  Control\n",
       "2317     112.12.25.7            0         2  Control"
      ]
     },
     "execution_count": 22,
     "metadata": {},
     "output_type": "execute_result"
    }
   ],
   "source": [
    "# View the Control DataFrame.\n",
    "control_sample.head()"
   ]
  },
  {
   "cell_type": "code",
   "execution_count": 23,
   "id": "f39aba39",
   "metadata": {},
   "outputs": [
    {
     "data": {
      "text/html": [
       "<div>\n",
       "<style scoped>\n",
       "    .dataframe tbody tr th:only-of-type {\n",
       "        vertical-align: middle;\n",
       "    }\n",
       "\n",
       "    .dataframe tbody tr th {\n",
       "        vertical-align: top;\n",
       "    }\n",
       "\n",
       "    .dataframe thead th {\n",
       "        text-align: right;\n",
       "    }\n",
       "</style>\n",
       "<table border=\"1\" class=\"dataframe\">\n",
       "  <thead>\n",
       "    <tr style=\"text-align: right;\">\n",
       "      <th></th>\n",
       "      <th>IPAddress</th>\n",
       "      <th>LoyaltyPage</th>\n",
       "      <th>ServerID</th>\n",
       "      <th>Group</th>\n",
       "    </tr>\n",
       "  </thead>\n",
       "  <tbody>\n",
       "    <tr>\n",
       "      <th>173762</th>\n",
       "      <td>251.0.251.9</td>\n",
       "      <td>1</td>\n",
       "      <td>1</td>\n",
       "      <td>Treatment</td>\n",
       "    </tr>\n",
       "    <tr>\n",
       "      <th>150588</th>\n",
       "      <td>16.1.214.6</td>\n",
       "      <td>1</td>\n",
       "      <td>1</td>\n",
       "      <td>Treatment</td>\n",
       "    </tr>\n",
       "    <tr>\n",
       "      <th>72805</th>\n",
       "      <td>39.3.26.5</td>\n",
       "      <td>0</td>\n",
       "      <td>1</td>\n",
       "      <td>Treatment</td>\n",
       "    </tr>\n",
       "    <tr>\n",
       "      <th>112098</th>\n",
       "      <td>90.14.154.1</td>\n",
       "      <td>1</td>\n",
       "      <td>1</td>\n",
       "      <td>Treatment</td>\n",
       "    </tr>\n",
       "    <tr>\n",
       "      <th>32507</th>\n",
       "      <td>18.5.206.8</td>\n",
       "      <td>0</td>\n",
       "      <td>1</td>\n",
       "      <td>Treatment</td>\n",
       "    </tr>\n",
       "  </tbody>\n",
       "</table>\n",
       "</div>"
      ],
      "text/plain": [
       "          IPAddress  LoyaltyPage  ServerID      Group\n",
       "173762  251.0.251.9            1         1  Treatment\n",
       "150588   16.1.214.6            1         1  Treatment\n",
       "72805     39.3.26.5            0         1  Treatment\n",
       "112098  90.14.154.1            1         1  Treatment\n",
       "32507    18.5.206.8            0         1  Treatment"
      ]
     },
     "execution_count": 23,
     "metadata": {},
     "output_type": "execute_result"
    }
   ],
   "source": [
    "# View the Treatment DataFrame.\n",
    "treatment_sample.head()"
   ]
  },
  {
   "cell_type": "markdown",
   "id": "d12b6ed9",
   "metadata": {},
   "source": [
    "## Perform the A/B test:"
   ]
  },
  {
   "cell_type": "code",
   "execution_count": 24,
   "id": "c088d2ec",
   "metadata": {
    "scrolled": true
   },
   "outputs": [
    {
     "data": {
      "text/html": [
       "<div>\n",
       "<style scoped>\n",
       "    .dataframe tbody tr th:only-of-type {\n",
       "        vertical-align: middle;\n",
       "    }\n",
       "\n",
       "    .dataframe tbody tr th {\n",
       "        vertical-align: top;\n",
       "    }\n",
       "\n",
       "    .dataframe thead th {\n",
       "        text-align: right;\n",
       "    }\n",
       "</style>\n",
       "<table border=\"1\" class=\"dataframe\">\n",
       "  <thead>\n",
       "    <tr style=\"text-align: right;\">\n",
       "      <th></th>\n",
       "      <th>IPAddress</th>\n",
       "      <th>LoyaltyPage</th>\n",
       "      <th>ServerID</th>\n",
       "      <th>Group</th>\n",
       "    </tr>\n",
       "  </thead>\n",
       "  <tbody>\n",
       "    <tr>\n",
       "      <th>0</th>\n",
       "      <td>25.16.126.2</td>\n",
       "      <td>1</td>\n",
       "      <td>3</td>\n",
       "      <td>Control</td>\n",
       "    </tr>\n",
       "    <tr>\n",
       "      <th>1</th>\n",
       "      <td>106.13.67.3</td>\n",
       "      <td>1</td>\n",
       "      <td>3</td>\n",
       "      <td>Control</td>\n",
       "    </tr>\n",
       "    <tr>\n",
       "      <th>2</th>\n",
       "      <td>169.11.137.7</td>\n",
       "      <td>0</td>\n",
       "      <td>2</td>\n",
       "      <td>Control</td>\n",
       "    </tr>\n",
       "    <tr>\n",
       "      <th>3</th>\n",
       "      <td>164.9.86.8</td>\n",
       "      <td>1</td>\n",
       "      <td>2</td>\n",
       "      <td>Control</td>\n",
       "    </tr>\n",
       "    <tr>\n",
       "      <th>4</th>\n",
       "      <td>112.12.25.7</td>\n",
       "      <td>0</td>\n",
       "      <td>2</td>\n",
       "      <td>Control</td>\n",
       "    </tr>\n",
       "    <tr>\n",
       "      <th>...</th>\n",
       "      <td>...</td>\n",
       "      <td>...</td>\n",
       "      <td>...</td>\n",
       "      <td>...</td>\n",
       "    </tr>\n",
       "    <tr>\n",
       "      <th>3125</th>\n",
       "      <td>32.16.5.8</td>\n",
       "      <td>0</td>\n",
       "      <td>1</td>\n",
       "      <td>Treatment</td>\n",
       "    </tr>\n",
       "    <tr>\n",
       "      <th>3126</th>\n",
       "      <td>187.4.117.9</td>\n",
       "      <td>1</td>\n",
       "      <td>1</td>\n",
       "      <td>Treatment</td>\n",
       "    </tr>\n",
       "    <tr>\n",
       "      <th>3127</th>\n",
       "      <td>134.0.112.5</td>\n",
       "      <td>1</td>\n",
       "      <td>1</td>\n",
       "      <td>Treatment</td>\n",
       "    </tr>\n",
       "    <tr>\n",
       "      <th>3128</th>\n",
       "      <td>7.3.242.7</td>\n",
       "      <td>0</td>\n",
       "      <td>1</td>\n",
       "      <td>Treatment</td>\n",
       "    </tr>\n",
       "    <tr>\n",
       "      <th>3129</th>\n",
       "      <td>118.14.226.4</td>\n",
       "      <td>0</td>\n",
       "      <td>1</td>\n",
       "      <td>Treatment</td>\n",
       "    </tr>\n",
       "  </tbody>\n",
       "</table>\n",
       "<p>3130 rows × 4 columns</p>\n",
       "</div>"
      ],
      "text/plain": [
       "         IPAddress  LoyaltyPage  ServerID      Group\n",
       "0      25.16.126.2            1         3    Control\n",
       "1      106.13.67.3            1         3    Control\n",
       "2     169.11.137.7            0         2    Control\n",
       "3       164.9.86.8            1         2    Control\n",
       "4      112.12.25.7            0         2    Control\n",
       "...            ...          ...       ...        ...\n",
       "3125     32.16.5.8            0         1  Treatment\n",
       "3126   187.4.117.9            1         1  Treatment\n",
       "3127   134.0.112.5            1         1  Treatment\n",
       "3128     7.3.242.7            0         1  Treatment\n",
       "3129  118.14.226.4            0         1  Treatment\n",
       "\n",
       "[3130 rows x 4 columns]"
      ]
     },
     "execution_count": 24,
     "metadata": {},
     "output_type": "execute_result"
    }
   ],
   "source": [
    "# Join the two samples.\n",
    "ab_test = pd.concat([control_sample, treatment_sample], axis=0)\n",
    "# Reset the A/B index.\n",
    "ab_test.reset_index(drop=True, inplace=True)\n",
    "# View the Treatment DataFrame.\n",
    "ab_test"
   ]
  },
  {
   "cell_type": "code",
   "execution_count": 41,
   "id": "0edbfdb0",
   "metadata": {},
   "outputs": [
    {
     "data": {
      "text/html": [
       "<style type=\"text/css\">\n",
       "</style>\n",
       "<table id=\"T_66755\">\n",
       "  <thead>\n",
       "    <tr>\n",
       "      <th class=\"blank level0\" >&nbsp;</th>\n",
       "      <th id=\"T_66755_level0_col0\" class=\"col_heading level0 col0\" >conversion_rate</th>\n",
       "      <th id=\"T_66755_level0_col1\" class=\"col_heading level0 col1\" >std_deviation</th>\n",
       "      <th id=\"T_66755_level0_col2\" class=\"col_heading level0 col2\" >std_error</th>\n",
       "    </tr>\n",
       "    <tr>\n",
       "      <th class=\"index_name level0\" >Group</th>\n",
       "      <th class=\"blank col0\" >&nbsp;</th>\n",
       "      <th class=\"blank col1\" >&nbsp;</th>\n",
       "      <th class=\"blank col2\" >&nbsp;</th>\n",
       "    </tr>\n",
       "  </thead>\n",
       "  <tbody>\n",
       "    <tr>\n",
       "      <th id=\"T_66755_level0_row0\" class=\"row_heading level0 row0\" >Control</th>\n",
       "      <td id=\"T_66755_row0_col0\" class=\"data row0 col0\" >0.532</td>\n",
       "      <td id=\"T_66755_row0_col1\" class=\"data row0 col1\" >0.499</td>\n",
       "      <td id=\"T_66755_row0_col2\" class=\"data row0 col2\" >0.013</td>\n",
       "    </tr>\n",
       "    <tr>\n",
       "      <th id=\"T_66755_level0_row1\" class=\"row_heading level0 row1\" >Treatment</th>\n",
       "      <td id=\"T_66755_row1_col0\" class=\"data row1 col0\" >0.483</td>\n",
       "      <td id=\"T_66755_row1_col1\" class=\"data row1 col1\" >0.500</td>\n",
       "      <td id=\"T_66755_row1_col2\" class=\"data row1 col2\" >0.013</td>\n",
       "    </tr>\n",
       "  </tbody>\n",
       "</table>\n"
      ],
      "text/plain": [
       "<pandas.io.formats.style.Styler at 0x1f0d062eaf0>"
      ]
     },
     "execution_count": 41,
     "metadata": {},
     "output_type": "execute_result"
    }
   ],
   "source": [
    "# Calculate basic statistics. \n",
    "# Import Library.\n",
    "from scipy.stats import sem\n",
    "# Group the ab_test data set by Group and aghregate by LoyaltyPage.\n",
    "conversion_rates = ab_test.groupby('Group')['LoyaltyPage']\n",
    "# Calculate conversion rates by calculating the means of columns STD_p and SE_p.\n",
    "conversion_rates = conversion_rates.agg([np.mean, np.std, sem])\n",
    "# Assign names to the three columns.\n",
    "conversion_rates.columns=['conversion_rate', 'std_deviation', 'std_error']\n",
    "# Round the results to three decimal places.\n",
    "conversion_rates.style.format('{:.3f}')"
   ]
  },
  {
   "cell_type": "code",
   "execution_count": 42,
   "id": "0d8b60c2",
   "metadata": {},
   "outputs": [
    {
     "name": "stdout",
     "output_type": "stream",
     "text": [
      "Z test stat: 2.75\n",
      "P-value: 0.006\n",
      "Confidence Interval of 95% for control group: [0.508, 0.557]\n",
      "Confidence Interval of 95% for treatment group: [0.458, 0.508]\n"
     ]
    }
   ],
   "source": [
    "# Calculate the statistical significance.\n",
    "# Import proportions_ztest and proportion_confint from statsmodels.\n",
    "from statsmodels.stats.proportion import proportions_ztest, proportion_confint\n",
    "# Create a subset of control and treatment results.\n",
    "control_results = ab_test[ab_test['Group'] == 'Control']['LoyaltyPage']\n",
    "treatment_results = ab_test[ab_test['Group'] == 'Treatment']['LoyaltyPage']\n",
    "# Determine the count of the control_results and the treatment_results sub-datasets and store them in their respective variables.\n",
    "n_con = control_results.count()\n",
    "n_treat = treatment_results.count()\n",
    "# Create a variable 'success' with the sum of the two data sets in a list format.\n",
    "successes = [control_results.sum(), treatment_results.sum()]\n",
    "# Create a variable 'nobs' wich stores values of variables n_con and n_treat in a list format.\n",
    "nobs = [n_con, n_treat]\n",
    "# Use the imported libraries to calculate the statistical values. \n",
    "z_stat, pval = proportions_ztest(successes, nobs=nobs)\n",
    "(lower_con, lower_treat), (upper_con, upper_treat) = proportion_confint(successes,\n",
    "                                                                        nobs=nobs,\n",
    "                                                                        alpha=0.05)\n",
    "# Print the outputs (with lead-in text).\n",
    "print(f'Z test stat: {z_stat:.2f}')\n",
    "print(f'P-value: {pval:.3f}')\n",
    "print(f'Confidence Interval of 95% for control group: [{lower_con:.3f}, {upper_con:.3f}]')\n",
    "print(f'Confidence Interval of 95% for treatment group: [{lower_treat:.3f}, {upper_treat:.3f}]')"
   ]
  },
  {
   "cell_type": "markdown",
   "id": "cbb887b5",
   "metadata": {},
   "source": [
    "## 7. Summarise results and explain your answers"
   ]
  },
  {
   "cell_type": "markdown",
   "id": "dc5a4983",
   "metadata": {},
   "source": [
    "The change to the homepage slightly decreased the click through to the login page. \n",
    "\n",
    "The `p`-value is smaller than the Alpha value of 0.05, meaning we reject the $H_0$. "
   ]
  }
 ],
 "metadata": {
  "kernelspec": {
   "display_name": "Python 3 (ipykernel)",
   "language": "python",
   "name": "python3"
  },
  "language_info": {
   "codemirror_mode": {
    "name": "ipython",
    "version": 3
   },
   "file_extension": ".py",
   "mimetype": "text/x-python",
   "name": "python",
   "nbconvert_exporter": "python",
   "pygments_lexer": "ipython3",
   "version": "3.9.13"
  }
 },
 "nbformat": 4,
 "nbformat_minor": 5
}
